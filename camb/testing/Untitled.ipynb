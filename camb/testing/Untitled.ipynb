{
 "cells": [
  {
   "cell_type": "code",
   "execution_count": 1,
   "metadata": {},
   "outputs": [
    {
     "name": "stdout",
     "output_type": "stream",
     "text": [
      "Using CAMB-ISiTGR 1.0.2 installed at /home/cristhian/DESC_Reanalysis/UpdateWrapper/ISiTGR/camb/isitgr\n"
     ]
    }
   ],
   "source": [
    "%matplotlib inline\n",
    "%config InlineBackend.figure_format = 'retina'\n",
    "import sys, platform, os\n",
    "import matplotlib\n",
    "from matplotlib import pyplot as plt\n",
    "import numpy as np\n",
    "\n",
    "#Assume installed from github using \"git clone --recursive https://github.com/cmbant/CAMB.git\"\n",
    "#This file is then in the docs folders\n",
    "isitgr_path = os.path.realpath(os.path.join(os.getcwd(),'..'))\n",
    "sys.path.insert(0,isitgr_path)\n",
    "import isitgr\n",
    "from isitgr import model, initialpower\n",
    "print('Using CAMB-ISiTGR %s installed at %s'%(isitgr.__version__,os.path.dirname(isitgr.__file__)))"
   ]
  },
  {
   "cell_type": "code",
   "execution_count": 20,
   "metadata": {},
   "outputs": [],
   "source": [
    "# Set up different set of parameters for CAMB (including MG)\n",
    "pars_MG = isitgr.CAMBparams()\n",
    "\n",
    "pars_MG.set_cosmology(H0=70, ombh2=0.0226, omch2=0.112, mnu=0, omk=0, tau=0.09,\n",
    "                  parameterization=\"muSigma\", mu0=0.0, Sigma0=0.1, c1=1.1,c2=0.9,Lambda=1)\n",
    "pars_MG.InitPower.set_params(As=2.1e-9, ns=0.96, r=0)\n",
    "pars_MG.set_for_lmax(2500, lens_potential_accuracy=0);\n",
    "\n",
    "results = isitgr.get_results(pars_MG)\n",
    "\n",
    "z=np.linspace(0.0,1.0,200)\n",
    "k=np.linspace(1E-4,1.0,200)"
   ]
  },
  {
   "cell_type": "code",
   "execution_count": 21,
   "metadata": {},
   "outputs": [
    {
     "data": {
      "text/plain": [
       "array([[1., 1., 1., ..., 1., 1., 1.],\n",
       "       [1., 1., 1., ..., 1., 1., 1.],\n",
       "       [1., 1., 1., ..., 1., 1., 1.],\n",
       "       ...,\n",
       "       [1., 1., 1., ..., 1., 1., 1.],\n",
       "       [1., 1., 1., ..., 1., 1., 1.],\n",
       "       [1., 1., 1., ..., 1., 1., 1.]])"
      ]
     },
     "execution_count": 21,
     "metadata": {},
     "output_type": "execute_result"
    }
   ],
   "source": [
    "results.mu_MG(z,k)"
   ]
  },
  {
   "cell_type": "code",
   "execution_count": 22,
   "metadata": {},
   "outputs": [
    {
     "data": {
      "text/plain": [
       "array([[1.18309982, 1.19995857, 1.19998942, ..., 1.2       , 1.2       ,\n",
       "        1.2       ],\n",
       "       [1.18232979, 1.19912928, 1.19916014, ..., 1.19917071, 1.19917071,\n",
       "        1.19917071],\n",
       "       [1.18155855, 1.19829861, 1.19832947, ..., 1.19834005, 1.19834005,\n",
       "        1.19834005],\n",
       "       ...,\n",
       "       [1.0626717 , 1.0691354 , 1.06916611, ..., 1.06917668, 1.06917668,\n",
       "        1.06917668],\n",
       "       [1.06231487, 1.06874395, 1.06877465, ..., 1.06878522, 1.06878522,\n",
       "        1.06878522],\n",
       "       [1.06196031, 1.06835496, 1.06838566, ..., 1.06839623, 1.06839623,\n",
       "        1.06839623]])"
      ]
     },
     "execution_count": 22,
     "metadata": {},
     "output_type": "execute_result"
    }
   ],
   "source": [
    "results.eta_MG(z,k)"
   ]
  },
  {
   "cell_type": "code",
   "execution_count": 23,
   "metadata": {},
   "outputs": [],
   "source": [
    "s=results.Sigma_MG(z,k)"
   ]
  },
  {
   "cell_type": "code",
   "execution_count": 24,
   "metadata": {},
   "outputs": [
    {
     "data": {
      "text/plain": [
       "(200, 200)"
      ]
     },
     "execution_count": 24,
     "metadata": {},
     "output_type": "execute_result"
    }
   ],
   "source": [
    "np.shape(s)"
   ]
  },
  {
   "cell_type": "code",
   "execution_count": null,
   "metadata": {},
   "outputs": [],
   "source": []
  }
 ],
 "metadata": {
  "kernelspec": {
   "display_name": "Python 3",
   "language": "python",
   "name": "python3"
  },
  "language_info": {
   "codemirror_mode": {
    "name": "ipython",
    "version": 3
   },
   "file_extension": ".py",
   "mimetype": "text/x-python",
   "name": "python",
   "nbconvert_exporter": "python",
   "pygments_lexer": "ipython3",
   "version": "3.8.5"
  }
 },
 "nbformat": 4,
 "nbformat_minor": 4
}
